{
 "cells": [
  {
   "cell_type": "code",
   "execution_count": 2,
   "metadata": {},
   "outputs": [
    {
     "name": "stdout",
     "output_type": "stream",
     "text": [
      "WARNING:tensorflow:From c:\\Users\\B.VENKATESWARA RAO\\AppData\\Local\\Programs\\Python\\Python310\\lib\\site-packages\\keras\\src\\losses.py:2976: The name tf.losses.sparse_softmax_cross_entropy is deprecated. Please use tf.compat.v1.losses.sparse_softmax_cross_entropy instead.\n",
      "\n"
     ]
    }
   ],
   "source": [
    "import tensorflow as tf"
   ]
  },
  {
   "cell_type": "code",
   "execution_count": 3,
   "metadata": {},
   "outputs": [
    {
     "name": "stdout",
     "output_type": "stream",
     "text": [
      "tf.Tensor(b'hello world', shape=(), dtype=string)\n"
     ]
    }
   ],
   "source": [
    "#update version\n",
    "tf.config.run_functions_eagerly(True)  #enable eager execution (if not already enabled)\n",
    "a=tf.constant(\"hello world\")   #a is variable creating\n",
    "print(a)"
   ]
  },
  {
   "cell_type": "code",
   "execution_count": 4,
   "metadata": {},
   "outputs": [
    {
     "name": "stdout",
     "output_type": "stream",
     "text": [
      "b'hello world'\n"
     ]
    }
   ],
   "source": [
    "print(a.numpy())"
   ]
  },
  {
   "cell_type": "code",
   "execution_count": 5,
   "metadata": {},
   "outputs": [
    {
     "name": "stdout",
     "output_type": "stream",
     "text": [
      "tf.Tensor(b'hello world', shape=(), dtype=string)\n"
     ]
    },
    {
     "ename": "AttributeError",
     "evalue": "module 'tensorflow' has no attribute 'Session'",
     "output_type": "error",
     "traceback": [
      "\u001b[1;31m---------------------------------------------------------------------------\u001b[0m",
      "\u001b[1;31mAttributeError\u001b[0m                            Traceback (most recent call last)",
      "Cell \u001b[1;32mIn[5], line 5\u001b[0m\n\u001b[0;32m      2\u001b[0m a\u001b[38;5;241m=\u001b[39ma\u001b[38;5;241m=\u001b[39mtf\u001b[38;5;241m.\u001b[39mconstant(\u001b[38;5;124m\"\u001b[39m\u001b[38;5;124mhello world\u001b[39m\u001b[38;5;124m\"\u001b[39m)\n\u001b[0;32m      3\u001b[0m \u001b[38;5;28mprint\u001b[39m(a)\n\u001b[1;32m----> 5\u001b[0m b\u001b[38;5;241m=\u001b[39m\u001b[43mtf\u001b[49m\u001b[38;5;241;43m.\u001b[39;49m\u001b[43mSession\u001b[49m()\n\u001b[0;32m      6\u001b[0m \u001b[38;5;28mprint\u001b[39m(b\u001b[38;5;241m.\u001b[39mrun(a))\n\u001b[0;32m      7\u001b[0m b\u001b[38;5;241m.\u001b[39mclose()\n",
      "\u001b[1;31mAttributeError\u001b[0m: module 'tensorflow' has no attribute 'Session'"
     ]
    }
   ],
   "source": [
    "#old version is\n",
    "a=a=tf.constant(\"hello world\")\n",
    "print(a)\n",
    "\n",
    "b=tf.Session()\n",
    "print(b.run(a))\n",
    "b.close()"
   ]
  },
  {
   "cell_type": "code",
   "execution_count": 7,
   "metadata": {},
   "outputs": [
    {
     "name": "stdout",
     "output_type": "stream",
     "text": [
      "tf.Tensor(10, shape=(), dtype=int32) \n",
      " tf.Tensor(3.14, shape=(), dtype=float32) \n",
      " tf.Tensor(b'hello', shape=(), dtype=string)\n",
      "10 \n",
      " 3.14 \n",
      " b'hello' \n",
      "\n",
      "tf.Tensor([1 2 3 4], shape=(4,), dtype=int32) \n",
      " tf.Tensor([5.  6.2 7.5 8.8], shape=(4,), dtype=float32) \n",
      "\n",
      "[1 2 3 4] \n",
      " [5.  6.2 7.5 8.8] \n",
      "\n",
      "tf.Tensor(\n",
      "[[1 2]\n",
      " [3 4]], shape=(2, 2), dtype=int32) \n",
      " tf.Tensor(\n",
      "[[5. ]\n",
      " [6.2]], shape=(2, 1), dtype=float32) \n",
      "\n",
      "[[1 2]\n",
      " [3 4]] \n",
      " [[5. ]\n",
      " [6.2]] \n",
      "\n",
      "tf.Tensor(\n",
      "[[[1 2 0]\n",
      "  [3 4 0]]\n",
      "\n",
      " [[5 6 0]\n",
      "  [7 8 0]]], shape=(2, 2, 3), dtype=int32)\n",
      "[[[1 2 0]\n",
      "  [3 4 0]]\n",
      "\n",
      " [[5 6 0]\n",
      "  [7 8 0]]]\n",
      "tf.Tensor(True, shape=(), dtype=bool)\n",
      "True\n",
      "tf.Tensor(\n",
      "[[0. 0. 0.]\n",
      " [0. 0. 0.]\n",
      " [0. 0. 0.]], shape=(3, 3), dtype=float32) \n",
      " tf.Tensor(\n",
      "[[1. 1. 1.]\n",
      " [1. 1. 1.]\n",
      " [1. 1. 1.]], shape=(3, 3), dtype=float32)\n",
      "[[0. 0. 0.]\n",
      " [0. 0. 0.]\n",
      " [0. 0. 0.]] \n",
      " [[1. 1. 1.]\n",
      " [1. 1. 1.]\n",
      " [1. 1. 1.]]\n"
     ]
    }
   ],
   "source": [
    "#scalar\n",
    "a=tf.constant(10)\n",
    "b=tf.constant(3.14)\n",
    "c=tf.constant(\"hello\")\n",
    "print(a,'\\n',b,'\\n',c)\n",
    "print(a.numpy(),'\\n',b.numpy(),'\\n',c.numpy(),'\\n')\n",
    "\n",
    "#vector\n",
    "a=tf.constant([1,2,3,4])\n",
    "b=tf.constant([5.0,6.2,7.5,8.8])\n",
    "print(a,'\\n',b,'\\n')\n",
    "print(a.numpy(),'\\n',b.numpy(),'\\n')\n",
    "\n",
    "#matrix\n",
    "a=tf.constant([[1,2],[3,4]])\n",
    "b=tf.constant([[5.0],[6.2]])\n",
    "print(a,'\\n',b,'\\n')\n",
    "print(a.numpy(),'\\n',b.numpy(),'\\n')\n",
    "\n",
    "#higher-dimensional Tensor constant\n",
    "a=tf.constant([[[1,2,0],[3,4,0]],[[5,6,0],[7,8,0]]])\n",
    "print(a)\n",
    "print(a.numpy())\n",
    "\n",
    "#boolean\n",
    "a=tf.constant(True)\n",
    "print(a)\n",
    "print(a.numpy())\n",
    "\n",
    "#special constant\n",
    "\n",
    "a=tf.zeros(shape=(3,3))\n",
    "b=tf.ones(shape=(3,3))\n",
    "print(a,'\\n',b)\n",
    "print(a.numpy(),'\\n',b.numpy())\n",
    "\n",
    "\n"
   ]
  },
  {
   "cell_type": "code",
   "execution_count": 8,
   "metadata": {},
   "outputs": [
    {
     "name": "stdout",
     "output_type": "stream",
     "text": [
      "tf.Tensor(15.0, shape=(), dtype=float32)\n",
      "15.0\n",
      "tf.Tensor(15.0, shape=(), dtype=float32)\n",
      "15.0\n"
     ]
    }
   ],
   "source": [
    "#multiplication \n",
    "a=tf.constant(5.0)\n",
    "b=tf.constant(3.0)\n",
    "c=a*b\n",
    "d=tf.multiply(a,b)\n",
    "print(c)\n",
    "print(c.numpy())\n",
    "print(d)\n",
    "print(d.numpy())"
   ]
  },
  {
   "cell_type": "code",
   "execution_count": 12,
   "metadata": {},
   "outputs": [
    {
     "name": "stdout",
     "output_type": "stream",
     "text": [
      "tf.Tensor(\n",
      "[[ 1  4]\n",
      " [ 9 16]], shape=(2, 2), dtype=int32)\n",
      "[[ 1  4]\n",
      " [ 9 16]]\n",
      "tf.Tensor(\n",
      "[[ 1  4]\n",
      " [ 9 16]], shape=(2, 2), dtype=int32)\n",
      "[[ 1  4]\n",
      " [ 9 16]]\n",
      "tf.Tensor(\n",
      "[[ 7 10]\n",
      " [15 22]], shape=(2, 2), dtype=int32)\n",
      "[[ 7 10]\n",
      " [15 22]]\n",
      "tf.Tensor(\n",
      "[[ 7 10]\n",
      " [15 22]], shape=(2, 2), dtype=int32)\n",
      "[[ 7 10]\n",
      " [15 22]]\n"
     ]
    }
   ],
   "source": [
    "#multiplication of matrix\n",
    "tf.config.run_functions_eagerly(True)\n",
    "a=tf.constant([[1,2],[3,4]])\n",
    "b=tf.constant([[1,2],[3,4]])\n",
    "c=a*b\n",
    "d=tf.multiply(a,b)\n",
    "print(c)\n",
    "print(c.numpy())\n",
    "print(d)\n",
    "print(d.numpy())\n",
    "\n",
    "c=a@b\n",
    "print(c)\n",
    "print(c.numpy())\n",
    "\n",
    "c=tf.matmul(a,b)\n",
    "print(c)\n",
    "print(c.numpy())\n"
   ]
  },
  {
   "cell_type": "code",
   "execution_count": 14,
   "metadata": {},
   "outputs": [
    {
     "name": "stdout",
     "output_type": "stream",
     "text": [
      "tf.Tensor(1.25, shape=(), dtype=float32)\n",
      "tf.Tensor(1, shape=(), dtype=int32) \n",
      " 1\n"
     ]
    }
   ],
   "source": [
    "a=tf.constant(1.25)\n",
    "print(a)\n",
    "b=tf.cast(a,dtype=tf.int32)\n",
    "print(b,'\\n',b.numpy())"
   ]
  },
  {
   "cell_type": "code",
   "execution_count": 15,
   "metadata": {},
   "outputs": [
    {
     "name": "stdout",
     "output_type": "stream",
     "text": [
      "[[1 3]\n",
      " [2 4]]\n",
      "10\n"
     ]
    }
   ],
   "source": [
    "x=tf.constant([[1,2],[3,4]])\n",
    "e=tf.transpose(x)\n",
    "print(e.numpy())\n",
    "d=tf.reduce_sum(x)\n",
    "print(d.numpy())"
   ]
  },
  {
   "cell_type": "code",
   "execution_count": 19,
   "metadata": {},
   "outputs": [
    {
     "name": "stdout",
     "output_type": "stream",
     "text": [
      "[[1. 2. 5. 1. 2. 5. 1. 2. 5.]\n",
      " [3. 4. 8. 3. 4. 8. 3. 4. 8.]]\n",
      "[[1. 2. 5.]\n",
      " [3. 4. 8.]\n",
      " [1. 2. 5.]\n",
      " [3. 4. 8.]\n",
      " [1. 2. 5.]\n",
      " [3. 4. 8.]]\n"
     ]
    }
   ],
   "source": [
    "x=tf.constant([[1.,2.,5.],[3.,4.,8.]])\n",
    "d=tf.concat([x,x,x],axis=1)\n",
    "print(d.numpy())\n",
    "d=tf.concat([x,x,x],axis=0)\n",
    "print(d.numpy())"
   ]
  },
  {
   "cell_type": "code",
   "execution_count": 37,
   "metadata": {},
   "outputs": [
    {
     "name": "stdout",
     "output_type": "stream",
     "text": [
      "tf.Tensor([4.2481614e-18 9.3571980e-14 2.0610598e-09 4.5397872e-05 9.9995458e-01], shape=(5,), dtype=float32)\n",
      "tf.Tensor(\n",
      "[[0.11920291 0.11920291 0.04742587]\n",
      " [0.880797   0.880797   0.95257413]], shape=(2, 3), dtype=float32)\n"
     ]
    }
   ],
   "source": [
    "logits=tf.constant([20.0,30.0,40.0,50.0,60.0])\n",
    "x=tf.constant([[1.,2.,5.],[3.,4.,8.]])\n",
    "softmax_probs=tf.nn.softmax(logits,axis=0)\n",
    "print(softmax_probs)\n",
    "softmax_probs=tf.nn.softmax(x,axis=0)\n",
    "print(softmax_probs)"
   ]
  },
  {
   "cell_type": "code",
   "execution_count": 47,
   "metadata": {},
   "outputs": [
    {
     "name": "stdout",
     "output_type": "stream",
     "text": [
      "                                                      0\n",
      "0     9/26/23, 08:56 - Messages and calls are end-to...\n",
      "1     9/26/23, 11:25 - Messages and calls are end-to...\n",
      "2     9/30/23, 11:41 - Disappearing messages were tu...\n",
      "3     9/30/23, 11:41 - Venkatesh(Cse-a): https://git...\n",
      "4        9/30/23, 18:52 - Tarun: Cheyledu chesta annadu\n",
      "...                                                 ...\n",
      "1206  except (ConnectionError, Timeout, TooManyRedir...\n",
      "1207                                           print(e)\n",
      "1208  2/20/24, 11:10 - Tarun: dba4504e-635c-4ef4-974...\n",
      "1209  2/20/24, 12:12 - Tarun: 8efed61fa2bf667d037d80...\n",
      "1210  2/20/24, 12:14 - Tarun: http://api.openweather...\n",
      "\n",
      "[1211 rows x 1 columns]\n",
      "                                                      0\n",
      "0     9/26/23, 08:56 - Messages and calls are end-to...\n",
      "1     9/26/23, 11:25 - Messages and calls are end-to...\n",
      "2     9/30/23, 11:41 - Disappearing messages were tu...\n",
      "3     9/30/23, 11:41 - Venkatesh(Cse-a): https://git...\n",
      "4        9/30/23, 18:52 - Tarun: Cheyledu chesta annadu\n",
      "...                                                 ...\n",
      "1206  except (ConnectionError, Timeout, TooManyRedir...\n",
      "1207                                           print(e)\n",
      "1208  2/20/24, 11:10 - Tarun: dba4504e-635c-4ef4-974...\n",
      "1209  2/20/24, 12:12 - Tarun: 8efed61fa2bf667d037d80...\n",
      "1210  2/20/24, 12:14 - Tarun: http://api.openweather...\n",
      "\n",
      "[1211 rows x 1 columns]\n"
     ]
    }
   ],
   "source": [
    "import pandas as pd\n",
    "\n",
    "input_file = 'inpu.txt'\n",
    "    # Read the text file into a pandas DataFrame\n",
    "df = pd.read_csv(input_file, delimiter='\\t', header=None)  # Assuming tab-separated text file without header\n",
    "print(df)\n",
    "    # Write the DataFrame to a CSV file\n",
    "df.to_csv('output.csv', index=False)  # Set index=False to exclude row numbers in output\n",
    "\n",
    "# Usage example\n",
    "df1= pd.read_csv('output.csv')\n",
    "print(df1)\n",
    "\n",
    "\n"
   ]
  },
  {
   "cell_type": "code",
   "execution_count": 49,
   "metadata": {},
   "outputs": [
    {
     "name": "stdout",
     "output_type": "stream",
     "text": [
      "Collecting fpdf\n",
      "  Downloading fpdf-1.7.2.tar.gz (39 kB)\n",
      "  Preparing metadata (setup.py): started\n",
      "  Preparing metadata (setup.py): finished with status 'done'\n",
      "Building wheels for collected packages: fpdf\n",
      "  Building wheel for fpdf (setup.py): started\n",
      "  Building wheel for fpdf (setup.py): finished with status 'done'\n",
      "  Created wheel for fpdf: filename=fpdf-1.7.2-py2.py3-none-any.whl size=40712 sha256=7f457f03b8daf8fe1fcc4a39d8306c7d8a75dd2f4d53125fdbbe62126b6bfc7e\n",
      "  Stored in directory: c:\\users\\b.venkateswara rao\\appdata\\local\\pip\\cache\\wheels\\f9\\95\\ba\\f418094659025eb9611f17cbcaf2334236bf39a0c3453ea455\n",
      "Successfully built fpdf\n",
      "Installing collected packages: fpdf\n",
      "Successfully installed fpdf-1.7.2\n",
      "Note: you may need to restart the kernel to use updated packages.\n"
     ]
    }
   ],
   "source": [
    "pip install fpdf"
   ]
  },
  {
   "cell_type": "code",
   "execution_count": 55,
   "metadata": {},
   "outputs": [
    {
     "name": "stdout",
     "output_type": "stream",
     "text": [
      "PDF successfully created!\n"
     ]
    }
   ],
   "source": [
    "import pandas as pd\n",
    "from fpdf import FPDF\n",
    "\n",
    "# Read the CSV file\n",
    "data = pd.read_csv('output.csv')\n",
    "\n",
    "# Convert DataFrame to a string\n",
    "data_str = data.to_string(index=False)\n",
    "\n",
    "# Initialize the PDF\n",
    "pdf = FPDF()\n",
    "pdf.add_page()\n",
    "pdf.set_font(\"Arial\", size=12)\n",
    "\n",
    "# Add the DataFrame content to the PDF\n",
    "# Encode the string using UTF-8 to avoid UnicodeEncodeError\n",
    "pdf.multi_cell(0, 10, data_str.encode('utf-8').decode('latin-1'))\n",
    "\n",
    "# Save the PDF file\n",
    "pdf.output(\"WhatsApp_Chat.pdf\")\n",
    "\n",
    "print(\"PDF successfully created!\")"
   ]
  }
 ],
 "metadata": {
  "kernelspec": {
   "display_name": "Python 3",
   "language": "python",
   "name": "python3"
  },
  "language_info": {
   "codemirror_mode": {
    "name": "ipython",
    "version": 3
   },
   "file_extension": ".py",
   "mimetype": "text/x-python",
   "name": "python",
   "nbconvert_exporter": "python",
   "pygments_lexer": "ipython3",
   "version": "3.10.10"
  }
 },
 "nbformat": 4,
 "nbformat_minor": 2
}
