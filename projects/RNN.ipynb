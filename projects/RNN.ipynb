{
  "nbformat": 4,
  "nbformat_minor": 0,
  "metadata": {
    "colab": {
      "provenance": []
    },
    "kernelspec": {
      "name": "python3",
      "display_name": "Python 3"
    },
    "language_info": {
      "name": "python"
    }
  },
  "cells": [
    {
      "cell_type": "code",
      "execution_count": null,
      "metadata": {
        "colab": {
          "base_uri": "https://localhost:8080/"
        },
        "id": "WZr1cdrpXp_e",
        "outputId": "5d4d8978-1ca0-447e-ec0b-29cead7e8a71"
      },
      "outputs": [
        {
          "output_type": "stream",
          "name": "stdout",
          "text": [
            "Epoch 1/50\n",
            "1/1 - 3s - loss: 2.5089 - accuracy: 0.1000 - 3s/epoch - 3s/step\n",
            "Epoch 2/50\n",
            "1/1 - 0s - loss: 2.4241 - accuracy: 0.2000 - 23ms/epoch - 23ms/step\n",
            "Epoch 3/50\n",
            "1/1 - 0s - loss: 2.3417 - accuracy: 0.2000 - 23ms/epoch - 23ms/step\n",
            "Epoch 4/50\n",
            "1/1 - 0s - loss: 2.2602 - accuracy: 0.3000 - 15ms/epoch - 15ms/step\n",
            "Epoch 5/50\n",
            "1/1 - 0s - loss: 2.1797 - accuracy: 0.3000 - 20ms/epoch - 20ms/step\n",
            "Epoch 6/50\n",
            "1/1 - 0s - loss: 2.1014 - accuracy: 0.3000 - 17ms/epoch - 17ms/step\n",
            "Epoch 7/50\n",
            "1/1 - 0s - loss: 2.0262 - accuracy: 0.3000 - 17ms/epoch - 17ms/step\n",
            "Epoch 8/50\n",
            "1/1 - 0s - loss: 1.9527 - accuracy: 0.3000 - 16ms/epoch - 16ms/step\n",
            "Epoch 9/50\n",
            "1/1 - 0s - loss: 1.8774 - accuracy: 0.3000 - 15ms/epoch - 15ms/step\n",
            "Epoch 10/50\n",
            "1/1 - 0s - loss: 1.7976 - accuracy: 0.4000 - 20ms/epoch - 20ms/step\n",
            "Epoch 11/50\n",
            "1/1 - 0s - loss: 1.7142 - accuracy: 0.4000 - 21ms/epoch - 21ms/step\n",
            "Epoch 12/50\n",
            "1/1 - 0s - loss: 1.6309 - accuracy: 0.4000 - 22ms/epoch - 22ms/step\n",
            "Epoch 13/50\n",
            "1/1 - 0s - loss: 1.5516 - accuracy: 0.6000 - 38ms/epoch - 38ms/step\n",
            "Epoch 14/50\n",
            "1/1 - 0s - loss: 1.4788 - accuracy: 0.6000 - 27ms/epoch - 27ms/step\n",
            "Epoch 15/50\n",
            "1/1 - 0s - loss: 1.4128 - accuracy: 0.7000 - 22ms/epoch - 22ms/step\n",
            "Epoch 16/50\n",
            "1/1 - 0s - loss: 1.3519 - accuracy: 0.7000 - 19ms/epoch - 19ms/step\n",
            "Epoch 17/50\n",
            "1/1 - 0s - loss: 1.2945 - accuracy: 0.7000 - 24ms/epoch - 24ms/step\n",
            "Epoch 18/50\n",
            "1/1 - 0s - loss: 1.2406 - accuracy: 0.7000 - 21ms/epoch - 21ms/step\n",
            "Epoch 19/50\n",
            "1/1 - 0s - loss: 1.1907 - accuracy: 0.7000 - 20ms/epoch - 20ms/step\n",
            "Epoch 20/50\n",
            "1/1 - 0s - loss: 1.1452 - accuracy: 0.7000 - 19ms/epoch - 19ms/step\n",
            "Epoch 21/50\n",
            "1/1 - 0s - loss: 1.1024 - accuracy: 0.7000 - 17ms/epoch - 17ms/step\n",
            "Epoch 22/50\n",
            "1/1 - 0s - loss: 1.0606 - accuracy: 0.7000 - 18ms/epoch - 18ms/step\n",
            "Epoch 23/50\n",
            "1/1 - 0s - loss: 1.0194 - accuracy: 0.7000 - 21ms/epoch - 21ms/step\n",
            "Epoch 24/50\n",
            "1/1 - 0s - loss: 0.9801 - accuracy: 0.7000 - 17ms/epoch - 17ms/step\n",
            "Epoch 25/50\n",
            "1/1 - 0s - loss: 0.9431 - accuracy: 0.7000 - 14ms/epoch - 14ms/step\n",
            "Epoch 26/50\n",
            "1/1 - 0s - loss: 0.9075 - accuracy: 0.7000 - 21ms/epoch - 21ms/step\n",
            "Epoch 27/50\n",
            "1/1 - 0s - loss: 0.8724 - accuracy: 0.7000 - 18ms/epoch - 18ms/step\n",
            "Epoch 28/50\n",
            "1/1 - 0s - loss: 0.8381 - accuracy: 0.7000 - 19ms/epoch - 19ms/step\n",
            "Epoch 29/50\n",
            "1/1 - 0s - loss: 0.8054 - accuracy: 0.7000 - 18ms/epoch - 18ms/step\n",
            "Epoch 30/50\n",
            "1/1 - 0s - loss: 0.7746 - accuracy: 0.7000 - 21ms/epoch - 21ms/step\n",
            "Epoch 31/50\n",
            "1/1 - 0s - loss: 0.7453 - accuracy: 0.7000 - 18ms/epoch - 18ms/step\n",
            "Epoch 32/50\n",
            "1/1 - 0s - loss: 0.7176 - accuracy: 0.7000 - 22ms/epoch - 22ms/step\n",
            "Epoch 33/50\n",
            "1/1 - 0s - loss: 0.6916 - accuracy: 0.7000 - 17ms/epoch - 17ms/step\n",
            "Epoch 34/50\n",
            "1/1 - 0s - loss: 0.6677 - accuracy: 0.8000 - 22ms/epoch - 22ms/step\n",
            "Epoch 35/50\n",
            "1/1 - 0s - loss: 0.6453 - accuracy: 0.8000 - 27ms/epoch - 27ms/step\n",
            "Epoch 36/50\n",
            "1/1 - 0s - loss: 0.6243 - accuracy: 0.8000 - 16ms/epoch - 16ms/step\n",
            "Epoch 37/50\n",
            "1/1 - 0s - loss: 0.6043 - accuracy: 0.8000 - 34ms/epoch - 34ms/step\n",
            "Epoch 38/50\n",
            "1/1 - 0s - loss: 0.5855 - accuracy: 0.8000 - 21ms/epoch - 21ms/step\n",
            "Epoch 39/50\n",
            "1/1 - 0s - loss: 0.5680 - accuracy: 0.8000 - 13ms/epoch - 13ms/step\n",
            "Epoch 40/50\n",
            "1/1 - 0s - loss: 0.5514 - accuracy: 0.8000 - 20ms/epoch - 20ms/step\n",
            "Epoch 41/50\n",
            "1/1 - 0s - loss: 0.5354 - accuracy: 0.8000 - 24ms/epoch - 24ms/step\n",
            "Epoch 42/50\n",
            "1/1 - 0s - loss: 0.5202 - accuracy: 0.8000 - 24ms/epoch - 24ms/step\n",
            "Epoch 43/50\n",
            "1/1 - 0s - loss: 0.5057 - accuracy: 0.8000 - 41ms/epoch - 41ms/step\n",
            "Epoch 44/50\n",
            "1/1 - 0s - loss: 0.4919 - accuracy: 0.8000 - 19ms/epoch - 19ms/step\n",
            "Epoch 45/50\n",
            "1/1 - 0s - loss: 0.4789 - accuracy: 0.8000 - 20ms/epoch - 20ms/step\n",
            "Epoch 46/50\n",
            "1/1 - 0s - loss: 0.4665 - accuracy: 0.8000 - 18ms/epoch - 18ms/step\n",
            "Epoch 47/50\n",
            "1/1 - 0s - loss: 0.4548 - accuracy: 0.8000 - 31ms/epoch - 31ms/step\n",
            "Epoch 48/50\n",
            "1/1 - 0s - loss: 0.4437 - accuracy: 0.8000 - 30ms/epoch - 30ms/step\n",
            "Epoch 49/50\n",
            "1/1 - 0s - loss: 0.4335 - accuracy: 0.8000 - 24ms/epoch - 24ms/step\n",
            "Epoch 50/50\n",
            "1/1 - 0s - loss: 0.4239 - accuracy: 0.8000 - 17ms/epoch - 17ms/step\n"
          ]
        },
        {
          "output_type": "execute_result",
          "data": {
            "text/plain": [
              "<keras.src.callbacks.History at 0x7ad3c1d73b80>"
            ]
          },
          "metadata": {},
          "execution_count": 1
        }
      ],
      "source": [
        "import numpy as np\n",
        "from keras.models import Sequential\n",
        "from keras.layers import SimpleRNN, Dense, Embedding\n",
        "from keras.preprocessing.text import Tokenizer\n",
        "from keras.preprocessing.sequence import pad_sequences\n",
        "from keras.utils import to_categorical\n",
        "\n",
        "# Generating some example sequential data\n",
        "sentences = ['I love learning','I love python','I hate school',\n",
        "             'Recurrent Neural Networks are powerful']\n",
        "# Tokenizing the words\n",
        "tokenizer = Tokenizer()\n",
        "tokenizer.fit_on_texts(sentences)\n",
        "total_words = len(tokenizer.word_index) + 1\n",
        "\n",
        "# Creating input sequences and their corresponding next words\n",
        "input_sequences = []\n",
        "for sentence in sentences:\n",
        "    tokenized_sentence = tokenizer.texts_to_sequences([sentence])[0]\n",
        "    for i in range(1, len(tokenized_sentence)):\n",
        "        n_gram_sequence = tokenized_sentence[:i+1]\n",
        "        input_sequences.append(n_gram_sequence)\n",
        "\n",
        "# Padding sequences for consistent input size\n",
        "max_sequence_length = max([len(seq) for seq in input_sequences])\n",
        "input_sequences = pad_sequences(input_sequences, maxlen=max_sequence_length, padding='pre')\n",
        "\n",
        "# Creating input and output data\n",
        "X, y = input_sequences[:, :-1], input_sequences[:, -1]\n",
        "y = to_categorical(y, num_classes=total_words)\n",
        "\n",
        "# Building a simple RNN model\n",
        "model = Sequential()\n",
        "model.add(Embedding(input_dim=total_words, output_dim=50, input_length=max_sequence_length-1))\n",
        "model.add(SimpleRNN(100, return_sequences=True))\n",
        "model.add(SimpleRNN(100))\n",
        "model.add(Dense(total_words, activation='softmax'))\n",
        "\n",
        "# Compiling the model\n",
        "model.compile(optimizer='adam', loss='categorical_crossentropy', metrics=['accuracy'])\n",
        "\n",
        "# Training the model\n",
        "model.fit(X, y, epochs=50, verbose=2)\n",
        "\n",
        "\n"
      ]
    },
    {
      "cell_type": "code",
      "source": [
        "# Generating text using the trained model\n",
        "seed_text = input(\"Enter the starting word: \")\n",
        "next_words = int(input(\"Enter how many words to predict: \"))\n",
        "\n",
        "for _ in range(next_words):\n",
        "    tokenized_seed = tokenizer.texts_to_sequences([seed_text])[0]\n",
        "    tokenized_seed = pad_sequences([tokenized_seed], maxlen=max_sequence_length-1, padding='pre')\n",
        "    predicted_word_index = np.argmax(model.predict(tokenized_seed), axis=-1)\n",
        "    predicted_word = tokenizer.index_word[predicted_word_index[0]]\n",
        "    seed_text += \" \" + predicted_word\n",
        "\n",
        "print(seed_text)"
      ],
      "metadata": {
        "colab": {
          "base_uri": "https://localhost:8080/"
        },
        "id": "CMboPm7BXu9F",
        "outputId": "42b6f7d5-6c29-4d9b-8f74-8532963ebdd9"
      },
      "execution_count": null,
      "outputs": [
        {
          "output_type": "stream",
          "name": "stdout",
          "text": [
            "Enter the starting word: i\n",
            "Enter how many words to predict: 5\n",
            "1/1 [==============================] - 0s 20ms/step\n",
            "1/1 [==============================] - 0s 27ms/step\n",
            "1/1 [==============================] - 0s 20ms/step\n",
            "1/1 [==============================] - 0s 19ms/step\n",
            "1/1 [==============================] - 0s 20ms/step\n",
            "i love learning networks are powerful\n"
          ]
        }
      ]
    }
  ]
}