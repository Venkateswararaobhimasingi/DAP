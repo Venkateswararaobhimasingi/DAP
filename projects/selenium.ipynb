{
 "cells": [
  {
   "cell_type": "code",
   "execution_count": null,
   "id": "3bbd99da-7aea-44d7-97f3-bb97bf6d986a",
   "metadata": {},
   "outputs": [],
   "source": [
    "pip install selenium"
   ]
  },
  {
   "cell_type": "code",
   "execution_count": null,
   "id": "917a2d72-d40a-4916-ad37-8d5902d1ac6a",
   "metadata": {},
   "outputs": [],
   "source": [
    "import pandas as pd\n",
    "from selenium import webdriver\n",
    "from time import sleep\n",
    "from selenium.webdriver.chrome.options import Options\n",
    "from webdriver_manager.chrome import ChromeDriverManager\n",
    "from selenium.webdriver.common.by import By\n",
    "from selenium.webdriver.common.keys import Keys"
   ]
  },
  {
   "cell_type": "code",
   "execution_count": 12,
   "id": "b61bb5cc-c6fa-4369-a145-eb46140da8eb",
   "metadata": {},
   "outputs": [
    {
     "name": "stderr",
     "output_type": "stream",
     "text": [
      "C:\\Users\\B.VENKATESWARA RAO\\AppData\\Local\\Temp\\ipykernel_8576\\4278580689.py:7: DeprecationWarning: executable_path has been deprecated, please pass in a Service object\n",
      "  driver=webdriver.Chrome(options=options,executable_path=ChromeDriverManager().install())\n"
     ]
    },
    {
     "name": "stdout",
     "output_type": "stream",
     "text": [
      "22\n",
      "33\n",
      "['34,990', '33,990', '35,990', '35,990', '47,990', '55,240', '36,490', '35,990', '34,990', '35,990', '43,990', '44,990', '23,619', '37,817', '81,990', '49,990', '47,990', '67,450', '46,990', '57,990', '75,990', '44,990', '33,990', '64,990', '57,990', '37,990', '', '', '25,990.', '35,990', '', '64,990', '50,550']\n",
      "27\n",
      "['241', '619', '2', '241', '4', '637', '241', '619', '619', '508', '151', '12', '76', '619', '14', '140', '179', '519', '3', '637', '519', '179', '2,268', '', '', '519', '187']\n",
      "['Dell 14 Laptop, 12th Gen Intel Core i3-1215U Processor/8GB/512GB SSD/Intel UHD Graphics/14.0\"(35.56cm) FHD/Windows 11 + MSO\\'21/15 Month McAfee/Spill-Resistant Keyboard/Grey/Thin & Light 1.48kg', 'Dell 15 Laptop, Intel Core i5-1135G7 Processor/16GB DDR4/512GB SSD/Intel UHD Graphic/15.6\" (39.562cm) FHD Display/Win 11+MSO\\'21/15 Month McAfee/Spill-Resistant Keyboard/Carbon/Thin & Light 1.69kg', 'Dell Inspiron 3520 Laptop, Intel Core i5-1235U Processor, 16GB,512GB,15.6\" (39.62cm) FHD Display, Backlit Keyboard, Win 11 + MSO\\'21,15 Month McAfee, Silver, Thin & Light-1.65kg', 'Dell 15 Laptop, Intel 12th Gen Core i3-1215U Proc/8GB DDR4/512GB SSD/Intel UHD Graphic/15.6\" (39.62cm) FHD Display/Spill-Resistant Keyboard/Win11+MSO\\'21/15 Month McAfee/Black/Thin & Light 1.69kg', 'Dell 14 Laptop, AMD Ryzen R5-5500U/ 8GB DDR4, 2400 MHz/ 512GB/ 14.0\" (35.56cm) FHD Display with Comfort View/Windows 11 + MSO\\'21/15 Month McAfee/Spill-Resistant Keyboard/Carbon Black/ 1.48kg', 'Dell 15 Laptop, Intel Core i3-1115G4, 8GB/1TB + 256GB SSD/15.6\" (39.62cm) FHD with Comfort View/Mobile Connect/Windows 11 + MSO\\'21/15 Month McAfee/Spill-Resistant Keyboard/Carbon/Thin & Light-1.69kg', 'Dell 14 Laptop, 12th Gen Intel Core i3-1215U Processor/8GB/512GB SSD/Intel UHD Graphics/14.0\"(35.56cm) FHD/Windows 11 + MSO\\'21/15 Month McAfee/Spill-Resistant Keyboard/Grey/Thin & Light 1.48kg', 'Dell 15 Laptop, Intel Core i5-1135G7 Processor/ 8GB DDR4/ 512GB SSD/ 15.6\" (39.62cm) FHD/Mobile Connect/Windows 11 + MSO\\'21/15 Month McAfee/Spill-Resistant Keyboard/Carbon Black/Thin & Light-1.69kg', 'Dell 15 Laptop, Intel Core i5-1135G7 Processor/ 8GB/ 1TB+256GB SSD/15.6\"(39.62cm) FHD Display/Mobile Connect/Windows 11 + MSO\\'21/15 Month McAfee/Spill-Resistant Keyboard/Black/Thin & Light 1.69kg', '(Renewed) DELL Latitude 5490 Core i5 8th Gen Laptop, 16 GB RAM, 512GB SSD, Intel HD Graphics, 14 inch (36.83 cms) HD Screen, Windows 11 (Upgraded), MS Office, Black, Slim', 'Dell 14 Laptop, AMD Ryzen 5-5500U/ 8GB- 2 DIMM Slots (Expandable to 16GB)/ 512GB/ 14.0\" (35.56cm) FHD Display 250 Nits/Windows 11 + MSO\\'21/15 Month McAfee/AMD Radeon Graphics/Black/Thin & Light-1.48kg', 'Dell G15-5530 Gaming Laptop, Intel Core i5-13450HX Processor, 16GB DDR5, 1TB, NVIDIA RTX 3050,6GB GDDR6, 15.6\" (39.62cm) FHD 120Hz 250 nits, Backlit KB Orange,Win 11 + MSO\\'21, Dark Shadow Gray, 2.65kg', 'Dell 14 Laptop, 12th Gen Intel Core i5-1235U Processor, 16GB, 512GB, 14.0\" (35.56cm) FHD Display, Windows 11 + MSO\\'21, Spill-Resistant Keyboard, 15 Month Mcafee, Black, Thin & Light- 1.48kg', 'Dell 15 Laptop, Intel Core i5-1135G7 Processor/16GB DDR4/512GB SSD/Intel UHD Graphic/15.6\" (39.562cm) FHD Display/Win 11+MSO\\'21/15 Month McAfee/Spill-Resistant Keyboard/Carbon/Thin & Light 1.69kg', 'Dell Inspiron 3530 Laptop, 13th Gen Intel Core i5-1335U Processor/16GB/1TB SSD/15.6\" (39.62cm) FHD Display/Backlit Keyboard/Platinum Silver/Win 11 + MSO\\'21/15 Month McAfee/Thin & Light- 1.66kg', 'Dell 14, Intel 12th Gen i5-1235U Laptop/8GB/512GB SSD/14.0\" (35.56cm) FHD TÃœV Rheinland Certified Comfortview to Reduce Harmful Blue Light Emission/Windows 11 + MSO\\'21/Black/15 Month McAfee,1.48kg', 'Dell Inspiron 7430 2in1 Touch Laptop, 13th Gen Intel Core i3-1315U/8GB/1TB SSD/14.0\" (35.56cm) FHD+,16:10 Aspect Ratio/Backlit KB+FPR/Win 11+MSO\\'21/15 Months McAfee/Platinum Silver/Thin & Light-1.58kg', 'Dell G15 5520 Gaming Laptop, Intel i5-12500H/16GB DDR5/1TB SSD/15.6\" (39.62cm) FHD WVA AG 120Hz 250 nits/NVIDIA RTX 3050, 4 GB GDDR6/Win 11 + MSO\\'21/15 Months McAfee/Backlit KB/Dark Shadow Grey/2.81kg', 'Dell 14 Laptop, Intel Core i5-1135G7 Processor/8GB/512GB/Intel UHD Graphic/14.0\" (35.6cm) FHD with Comfort View/Spill-Resistant Keyboard/Thin & Light 1.48kg/ Win 11+ MSO\\'21/15 Month McAfee/Titan Grey'] \n",
      " ['34,990', '33,990', '35,990', '35,990', '47,990', '55,240', '36,490', '35,990', '34,990', '35,990', '43,990', '44,990', '23,619', '37,817', '81,990', '49,990', '47,990', '67,450', '46,990'] \n",
      " ['241', '619', '2', '241', '4', '637', '241', '619', '619', '508', '151', '12', '76', '619', '14', '140', '179', '519', '3'] \n",
      "\n",
      "                                                 Name   Price Review\n",
      "0   Dell 14 Laptop, 12th Gen Intel Core i3-1215U P...  34,990    241\n",
      "1   Dell 15 Laptop, Intel Core i5-1135G7 Processor...  33,990    619\n",
      "2   Dell Inspiron 3520 Laptop, Intel Core i5-1235U...  35,990      2\n",
      "3   Dell 15 Laptop, Intel 12th Gen Core i3-1215U P...  35,990    241\n",
      "4   Dell 14 Laptop, AMD Ryzen R5-5500U/ 8GB DDR4, ...  47,990      4\n",
      "5   Dell 15 Laptop, Intel Core i3-1115G4, 8GB/1TB ...  55,240    637\n",
      "6   Dell 14 Laptop, 12th Gen Intel Core i3-1215U P...  36,490    241\n",
      "7   Dell 15 Laptop, Intel Core i5-1135G7 Processor...  35,990    619\n",
      "8   Dell 15 Laptop, Intel Core i5-1135G7 Processor...  34,990    619\n",
      "9   (Renewed) DELL Latitude 5490 Core i5 8th Gen L...  35,990    508\n",
      "10  Dell 14 Laptop, AMD Ryzen 5-5500U/ 8GB- 2 DIMM...  43,990    151\n",
      "11  Dell G15-5530 Gaming Laptop, Intel Core i5-134...  44,990     12\n",
      "12  Dell 14 Laptop, 12th Gen Intel Core i5-1235U P...  23,619     76\n",
      "13  Dell 15 Laptop, Intel Core i5-1135G7 Processor...  37,817    619\n",
      "14  Dell Inspiron 3530 Laptop, 13th Gen Intel Core...  81,990     14\n",
      "15  Dell 14, Intel 12th Gen i5-1235U Laptop/8GB/51...  49,990    140\n",
      "16  Dell Inspiron 7430 2in1 Touch Laptop, 13th Gen...  47,990    179\n",
      "17  Dell G15 5520 Gaming Laptop, Intel i5-12500H/1...  67,450    519\n",
      "18  Dell 14 Laptop, Intel Core i5-1135G7 Processor...  46,990      3\n"
     ]
    }
   ],
   "source": [
    "options=webdriver.ChromeOptions()   #features\n",
    "#add if any arg are additional to options \n",
    "\n",
    "#create webdriver instance with options\n",
    "options.add_argument('--some-option')\n",
    "\n",
    "driver=webdriver.Chrome(options=options,executable_path=ChromeDriverManager().install())\n",
    "page=driver.get('https://amazon.in')\n",
    "search=driver.find_element(By.ID,\"twotabsearchtextbox\")\n",
    "search.send_keys(\"Dell laptops\")\n",
    "driver.find_element(By.ID,\"nav-search-submit-button\").click()\n",
    "names=driver.find_elements(By.XPATH,\".//span[@class='a-size-medium a-color-base a-text-normal']\")\n",
    "laptop_names=[i.text for i in names]\n",
    "print(len(laptop_names))\n",
    "l=laptop_names[:19]\n",
    "\n",
    "prices=driver.find_elements(By.XPATH,\".//span[@class='a-price-whole']\")\n",
    "latop_prices=[i.text for i in prices]\n",
    "print(len(latop_prices))\n",
    "print(latop_prices)\n",
    "p=latop_prices[:19]\n",
    "\n",
    "review=driver.find_elements(By.XPATH,\".//span[@class='a-size-base s-underline-text']\")\n",
    "laptop_reviews=latop_prices=[i.text for i in review]\n",
    "print(len(laptop_reviews))\n",
    "r=laptop_reviews[:19]\n",
    "print(laptop_reviews)\n",
    "print(l,'\\n',p,'\\n',r,'\\n')\n",
    "df=pd.DataFrame({\n",
    "  'Name':l,\n",
    "  'Price':p,\n",
    "  'Review':r})\n",
    "print(df)\n"
   ]
  },
  {
   "cell_type": "code",
   "execution_count": 13,
   "id": "8285bf74",
   "metadata": {},
   "outputs": [],
   "source": [
    "df.to_csv(\"laptops.csv\")"
   ]
  },
  {
   "cell_type": "code",
   "execution_count": 14,
   "id": "c784ebcf",
   "metadata": {},
   "outputs": [
    {
     "name": "stdout",
     "output_type": "stream",
     "text": [
      "    Unnamed: 0                                               Name   Price   \n",
      "0            0  Dell 14 Laptop, 12th Gen Intel Core i3-1215U P...  34,990  \\\n",
      "1            1  Dell 15 Laptop, Intel Core i5-1135G7 Processor...  33,990   \n",
      "2            2  Dell Inspiron 3520 Laptop, Intel Core i5-1235U...  35,990   \n",
      "3            3  Dell 15 Laptop, Intel 12th Gen Core i3-1215U P...  35,990   \n",
      "4            4  Dell 14 Laptop, AMD Ryzen R5-5500U/ 8GB DDR4, ...  47,990   \n",
      "5            5  Dell 15 Laptop, Intel Core i3-1115G4, 8GB/1TB ...  55,240   \n",
      "6            6  Dell 14 Laptop, 12th Gen Intel Core i3-1215U P...  36,490   \n",
      "7            7  Dell 15 Laptop, Intel Core i5-1135G7 Processor...  35,990   \n",
      "8            8  Dell 15 Laptop, Intel Core i5-1135G7 Processor...  34,990   \n",
      "9            9  (Renewed) DELL Latitude 5490 Core i5 8th Gen L...  35,990   \n",
      "10          10  Dell 14 Laptop, AMD Ryzen 5-5500U/ 8GB- 2 DIMM...  43,990   \n",
      "11          11  Dell G15-5530 Gaming Laptop, Intel Core i5-134...  44,990   \n",
      "12          12  Dell 14 Laptop, 12th Gen Intel Core i5-1235U P...  23,619   \n",
      "13          13  Dell 15 Laptop, Intel Core i5-1135G7 Processor...  37,817   \n",
      "14          14  Dell Inspiron 3530 Laptop, 13th Gen Intel Core...  81,990   \n",
      "15          15  Dell 14, Intel 12th Gen i5-1235U Laptop/8GB/51...  49,990   \n",
      "16          16  Dell Inspiron 7430 2in1 Touch Laptop, 13th Gen...  47,990   \n",
      "17          17  Dell G15 5520 Gaming Laptop, Intel i5-12500H/1...  67,450   \n",
      "18          18  Dell 14 Laptop, Intel Core i5-1135G7 Processor...  46,990   \n",
      "\n",
      "    Review  \n",
      "0      241  \n",
      "1      619  \n",
      "2        2  \n",
      "3      241  \n",
      "4        4  \n",
      "5      637  \n",
      "6      241  \n",
      "7      619  \n",
      "8      619  \n",
      "9      508  \n",
      "10     151  \n",
      "11      12  \n",
      "12      76  \n",
      "13     619  \n",
      "14      14  \n",
      "15     140  \n",
      "16     179  \n",
      "17     519  \n",
      "18       3  \n"
     ]
    }
   ],
   "source": [
    "df1=pd.read_csv(\"laptops. csv\")\n",
    "print(df1)"
   ]
  }
 ],
 "metadata": {
  "kernelspec": {
   "display_name": "Python 3 (ipykernel)",
   "language": "python",
   "name": "python3"
  },
  "language_info": {
   "codemirror_mode": {
    "name": "ipython",
    "version": 3
   },
   "file_extension": ".py",
   "mimetype": "text/x-python",
   "name": "python",
   "nbconvert_exporter": "python",
   "pygments_lexer": "ipython3",
   "version": "3.8.0"
  }
 },
 "nbformat": 4,
 "nbformat_minor": 5
}
